{
 "cells": [
  {
   "cell_type": "code",
   "execution_count": 1,
   "metadata": {},
   "outputs": [],
   "source": [
    "import csv\n",
    "import openpyxl\n",
    "from openpyxl import Workbook\n",
    "import pandas as pd\n",
    "import pyexcelerate\n",
    "import line_profiler\n",
    "import xlwt"
   ]
  },
  {
   "cell_type": "code",
   "execution_count": 2,
   "metadata": {},
   "outputs": [
    {
     "name": "stdout",
     "output_type": "stream",
     "text": [
      "0.23.3\n",
      "2.5.3\n",
      "1.2.0\n",
      "0.8.0\n"
     ]
    }
   ],
   "source": [
    "print(pd.__version__)\n",
    "print(openpyxl.__version__)\n",
    "print(xlwt.__VERSION__)"
   ]
  },
  {
   "cell_type": "markdown",
   "metadata": {},
   "source": [
    "sampleデータはこちらのページから使わせていただいております。  \n",
    "http://eforexcel.com/wp/downloads-18-sample-csv-files-data-sets-for-testing-sales/"
   ]
  },
  {
   "cell_type": "markdown",
   "metadata": {},
   "source": [
    "# csvファイルの読み込み時間だけ計測"
   ]
  },
  {
   "cell_type": "markdown",
   "metadata": {},
   "source": [
    "## pandas"
   ]
  },
  {
   "cell_type": "code",
   "execution_count": 3,
   "metadata": {
    "scrolled": true
   },
   "outputs": [
    {
     "name": "stdout",
     "output_type": "stream",
     "text": [
      "180 ms ± 62.7 ms per loop (mean ± std. dev. of 7 runs, 10 loops each)\n"
     ]
    }
   ],
   "source": [
    "%%timeit\n",
    "sample_csv_df = pd.read_csv(\"50000_Sales_Records.csv\")"
   ]
  },
  {
   "cell_type": "markdown",
   "metadata": {},
   "source": [
    "## 標準ライブラリ csv"
   ]
  },
  {
   "cell_type": "code",
   "execution_count": 4,
   "metadata": {},
   "outputs": [
    {
     "name": "stdout",
     "output_type": "stream",
     "text": [
      "58.9 µs ± 2.54 µs per loop (mean ± std. dev. of 7 runs, 10000 loops each)\n"
     ]
    }
   ],
   "source": [
    "%%timeit\n",
    "with open(\"50000_Sales_Records.csv\", \"r\") as file:\n",
    "    data = csv.reader(file)"
   ]
  },
  {
   "cell_type": "markdown",
   "metadata": {},
   "source": [
    "ただしDataFrameインスタンスを作ることに比べて、csv.readerはその必要がないため必然的に速くなると思える\n",
    "以下ではcsvを読み込んでから書き込むまでを総合して、時間計測する"
   ]
  },
  {
   "cell_type": "markdown",
   "metadata": {},
   "source": [
    "# csv読み込みから、書き込みまで時間計測"
   ]
  },
  {
   "cell_type": "markdown",
   "metadata": {},
   "source": [
    "## pandas"
   ]
  },
  {
   "cell_type": "code",
   "execution_count": 5,
   "metadata": {
    "scrolled": true
   },
   "outputs": [
    {
     "name": "stdout",
     "output_type": "stream",
     "text": [
      "16.8 s ± 2.98 s per loop (mean ± std. dev. of 7 runs, 1 loop each)\n"
     ]
    }
   ],
   "source": [
    "%%timeit\n",
    "sample_csv_df = pd.read_csv(\"50000_Sales_Records.csv\")\n",
    "sample_csv_df.to_excel(\"pandas_output.xlsx\", index=False, startrow=1, startcol=1)"
   ]
  },
  {
   "cell_type": "markdown",
   "metadata": {},
   "source": [
    "## openpyxl pattern 1"
   ]
  },
  {
   "cell_type": "code",
   "execution_count": 6,
   "metadata": {},
   "outputs": [
    {
     "name": "stdout",
     "output_type": "stream",
     "text": [
      "CPU times: user 16 s, sys: 205 ms, total: 16.2 s\n",
      "Wall time: 16.2 s\n"
     ]
    }
   ],
   "source": [
    "%%time\n",
    "with open(\"50000_Sales_Records.csv\", \"r\") as file:\n",
    "    data = csv.reader(file)\n",
    "    wb = Workbook()\n",
    "    ws = wb.active\n",
    "    row_num = 1\n",
    "    for record in data:\n",
    "        col_num = 1\n",
    "        for val in record:\n",
    "            ws.cell(row=row_num, column=col_num, value=val)\n",
    "            col_num += 1\n",
    "        row_num += 1\n",
    "    wb.save(\"openpyxl_output1.xlsx\")"
   ]
  },
  {
   "cell_type": "markdown",
   "metadata": {},
   "source": [
    "## openpyxl pattern 2"
   ]
  },
  {
   "cell_type": "code",
   "execution_count": 7,
   "metadata": {},
   "outputs": [
    {
     "name": "stdout",
     "output_type": "stream",
     "text": [
      "14.5 s ± 813 ms per loop (mean ± std. dev. of 7 runs, 1 loop each)\n"
     ]
    }
   ],
   "source": [
    "%%timeit\n",
    "with open(\"50000_Sales_Records.csv\", \"r\") as file:\n",
    "    data = csv.reader(file)\n",
    "    wb = Workbook()\n",
    "    ws = wb.active\n",
    "    for record in data:\n",
    "        ws.append(record)  # レコードごとにエクセルに挿入することが可能\n",
    "    wb.save(\"openpyxl_output2.xlsx\")"
   ]
  },
  {
   "cell_type": "markdown",
   "metadata": {},
   "source": [
    "## xlwt"
   ]
  },
  {
   "cell_type": "code",
   "execution_count": 8,
   "metadata": {},
   "outputs": [
    {
     "name": "stdout",
     "output_type": "stream",
     "text": [
      "7.66 s ± 393 ms per loop (mean ± std. dev. of 7 runs, 1 loop each)\n"
     ]
    }
   ],
   "source": [
    "%%timeit\n",
    "with open(\"50000_Sales_Records.csv\", \"r\") as file:\n",
    "    data = csv.reader(file)\n",
    "    wb = xlwt.Workbook()\n",
    "    ws = wb.add_sheet('A Test Sheet')\n",
    "\n",
    "    row_num = 1\n",
    "    for record in data:\n",
    "        col_num = 1\n",
    "        for val in record:\n",
    "            ws.write(r=row_num, c=col_num, label=val)\n",
    "            col_num += 1\n",
    "        row_num += 1\n",
    "\n",
    "    wb.save('xlwt_output.xls')  # 注意、拡張子は自由に指定できるが、実際は全てxls形式となっている"
   ]
  },
  {
   "cell_type": "markdown",
   "metadata": {},
   "source": [
    "# 結果\n",
    "| ライブラリ | 計測時間 | \n",
    "| :--- | :--- |\n",
    "| pandas | 15.2 s ± 763 ms per loop (mean ± std. dev. of 7 runs, 1 loop each) | \n",
    "| openpyxl 1 | 16.7 s ± 1.29 s per loop (mean ± std. dev. of 7 runs, 1 loop each) | \n",
    "| openpyxl 2 | 15.4 s ± 1.15 s per loop (mean ± std. dev. of 7 runs, 1 loop each)| \n",
    "| xlwt | 7.62 s ± 510 ms per loop (mean ± std. dev. of 7 runs, 1 loop each) | \n"
   ]
  },
  {
   "cell_type": "markdown",
   "metadata": {},
   "source": [
    "# pandasでengineの指定をxlwtにすると速くなるのか"
   ]
  },
  {
   "cell_type": "code",
   "execution_count": 9,
   "metadata": {},
   "outputs": [
    {
     "name": "stdout",
     "output_type": "stream",
     "text": [
      "10.9 s ± 462 ms per loop (mean ± std. dev. of 7 runs, 1 loop each)\n"
     ]
    }
   ],
   "source": [
    "%%timeit\n",
    "sample_csv_df = pd.read_csv(\"50000_Sales_Records.csv\")\n",
    "sample_csv_df.to_excel(\"pandas_output.xls\", index=False, startrow=1, startcol=1, engine=\"xlwt\")"
   ]
  },
  {
   "cell_type": "markdown",
   "metadata": {},
   "source": [
    "## ※速くなるけれどファイル容量が大きくなってしまう"
   ]
  },
  {
   "cell_type": "code",
   "execution_count": null,
   "metadata": {},
   "outputs": [],
   "source": []
  },
  {
   "cell_type": "markdown",
   "metadata": {},
   "source": [
    "# 最終的な形(後にpyexcelerateに負ける)"
   ]
  },
  {
   "cell_type": "code",
   "execution_count": 73,
   "metadata": {},
   "outputs": [
    {
     "name": "stdout",
     "output_type": "stream",
     "text": [
      "39.6 s ± 1.6 s per loop (mean ± std. dev. of 7 runs, 1 loop each)\n"
     ]
    }
   ],
   "source": [
    "%%timeit\n",
    "output_file_name = \"pandas_output.xlsx\"\n",
    "sample_csv_df = pd.read_csv(\"50000_Sales_Records.csv\")\n",
    "sample_csv_df.to_excel(output_file_name, index=False, startrow=1, startcol=1)\n",
    "\n",
    "# 色付け、列の幅を整えるためにopenpyxlで読み直す\n",
    "book = openpyxl.load_workbook(output_file_name)\n",
    "ws = book.worksheets[0]\n",
    "\n",
    "fill_pattern = openpyxl.styles.PatternFill(patternType='solid', fgColor='2ecc71')\n",
    "header = ws[2]  # 2行目を左から順に見ていき、データが最後に存在するカラムまで取得する\n",
    "\n",
    "min_length = 3\n",
    "for header_cell in header:\n",
    "    header_cell.fill = fill_pattern\n",
    "    \n",
    "    column = header_cell.column\n",
    "    column_cells = ws[column]\n",
    "    length = max(len(str(cell.value)) for cell in column_cells)\n",
    "    if min_length > length:\n",
    "        length = min_length\n",
    "    ws.column_dimensions[column].width = length\n",
    "\n",
    "book.save(output_file_name)"
   ]
  },
  {
   "cell_type": "code",
   "execution_count": 8,
   "metadata": {},
   "outputs": [],
   "source": []
  },
  {
   "cell_type": "markdown",
   "metadata": {},
   "source": [
    "# pyexcelerateを使ってみる"
   ]
  },
  {
   "cell_type": "code",
   "execution_count": 11,
   "metadata": {
    "scrolled": true
   },
   "outputs": [
    {
     "name": "stdout",
     "output_type": "stream",
     "text": [
      "0.8.0\n"
     ]
    }
   ],
   "source": [
    "import pyexcelerate\n",
    "print(pyexcelerate.__version__)"
   ]
  },
  {
   "cell_type": "markdown",
   "metadata": {},
   "source": [
    "# 以下実験"
   ]
  },
  {
   "cell_type": "code",
   "execution_count": 69,
   "metadata": {},
   "outputs": [],
   "source": [
    "from pyexcelerate import Workbook, Color, Style\n",
    "from openpyxl.utils.cell import get_column_letter"
   ]
  },
  {
   "cell_type": "code",
   "execution_count": 14,
   "metadata": {},
   "outputs": [
    {
     "name": "stdout",
     "output_type": "stream",
     "text": [
      "5.02 ms ± 165 µs per loop (mean ± std. dev. of 7 runs, 100 loops each)\n"
     ]
    }
   ],
   "source": [
    "%%timeit\n",
    "with open(\"50000_Sales_Records.csv\", \"r\") as file:\n",
    "    data = csv.reader(file)\n",
    "\n",
    "    wb = Workbook()\n",
    "    wb.new_sheet(\"a test sheet\", data=data)\n",
    "    wb.save(\"pyexcelerate_output.xlsx\")"
   ]
  },
  {
   "cell_type": "code",
   "execution_count": 35,
   "metadata": {},
   "outputs": [
    {
     "name": "stdout",
     "output_type": "stream",
     "text": [
      "8.44 s ± 236 ms per loop (mean ± std. dev. of 7 runs, 1 loop each)\n"
     ]
    }
   ],
   "source": [
    "%%timeit\n",
    "sample_csv_df = pd.read_csv(\"50000_Sales_Records.csv\")\n",
    "\n",
    "wb = Workbook()\n",
    "wb.new_sheet(\"a test sheet\", data=sample_csv_df.values.tolist())\n",
    "wb.save(\"pyexcelerate_output.xlsx\")"
   ]
  },
  {
   "cell_type": "markdown",
   "metadata": {},
   "source": [
    "# 綺麗にエクセル出力するためには"
   ]
  },
  {
   "cell_type": "code",
   "execution_count": 71,
   "metadata": {},
   "outputs": [
    {
     "name": "stdout",
     "output_type": "stream",
     "text": [
      "11.3 s ± 722 ms per loop (mean ± std. dev. of 7 runs, 1 loop each)\n"
     ]
    }
   ],
   "source": [
    "%%timeit\n",
    "sample_csv_df = pd.read_csv(\"50000_Sales_Records.csv\")\n",
    "rownum = len(sample_csv_df.index)\n",
    "colnum = len(sample_csv_df.columns)\n",
    "\n",
    "first_cell = \"B2\"\n",
    "end_cell = get_column_letter(colnum+1) + str(rownum+1)\n",
    "header_range = (first_cell, get_column_letter(colnum+1) + str(2))\n",
    "\n",
    "\n",
    "wb = Workbook()\n",
    "ws = wb.new_sheet(\"a test sheet\")\n",
    "ws.range(first_cell, end_cell).value = sample_csv_df.values.tolist()\n",
    "ws.range(header_range[0], header_range[1]).style.fill.background = Color(46, 204, 113, 0)\n",
    "for i in range(1, colnum+1):\n",
    "    ws.set_col_style(i, Style(size=-1))\n",
    "wb.save(\"pyexcelerate_output.xlsx\")"
   ]
  },
  {
   "cell_type": "code",
   "execution_count": 65,
   "metadata": {},
   "outputs": [],
   "source": []
  },
  {
   "cell_type": "code",
   "execution_count": null,
   "metadata": {},
   "outputs": [],
   "source": []
  }
 ],
 "metadata": {
  "kernelspec": {
   "display_name": "Python 3",
   "language": "python",
   "name": "python3"
  },
  "language_info": {
   "codemirror_mode": {
    "name": "ipython",
    "version": 3
   },
   "file_extension": ".py",
   "mimetype": "text/x-python",
   "name": "python",
   "nbconvert_exporter": "python",
   "pygments_lexer": "ipython3",
   "version": "3.6.7"
  }
 },
 "nbformat": 4,
 "nbformat_minor": 2
}
